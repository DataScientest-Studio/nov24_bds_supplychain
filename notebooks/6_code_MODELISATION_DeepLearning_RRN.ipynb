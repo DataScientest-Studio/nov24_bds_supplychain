{
 "cells": [
  {
   "cell_type": "code",
   "execution_count": null,
   "metadata": {},
   "outputs": [
    {
     "name": "stdout",
     "output_type": "stream",
     "text": [
      "Epoch 1/5\n"
     ]
    },
    {
     "name": "stderr",
     "output_type": "stream",
     "text": [
      "c:\\Users\\User\\anaconda3\\envs\\env\\lib\\site-packages\\keras\\src\\layers\\core\\embedding.py:90: UserWarning: Argument `input_length` is deprecated. Just remove it.\n",
      "  warnings.warn(\n"
     ]
    },
    {
     "name": "stdout",
     "output_type": "stream",
     "text": [
      "\u001b[1m13425/13425\u001b[0m \u001b[32m━━━━━━━━━━━━━━━━━━━━\u001b[0m\u001b[37m\u001b[0m \u001b[1m99s\u001b[0m 7ms/step - accuracy: 0.7477 - loss: 0.7405\n",
      "Epoch 2/5\n",
      "\u001b[1m13425/13425\u001b[0m \u001b[32m━━━━━━━━━━━━━━━━━━━━\u001b[0m\u001b[37m\u001b[0m \u001b[1m102s\u001b[0m 8ms/step - accuracy: 0.7812 - loss: 0.6223\n",
      "Epoch 3/5\n",
      "\u001b[1m13425/13425\u001b[0m \u001b[32m━━━━━━━━━━━━━━━━━━━━\u001b[0m\u001b[37m\u001b[0m \u001b[1m122s\u001b[0m 9ms/step - accuracy: 0.7937 - loss: 0.5821\n",
      "Epoch 4/5\n",
      "\u001b[1m13425/13425\u001b[0m \u001b[32m━━━━━━━━━━━━━━━━━━━━\u001b[0m\u001b[37m\u001b[0m \u001b[1m118s\u001b[0m 9ms/step - accuracy: 0.8024 - loss: 0.5517\n",
      "Epoch 5/5\n",
      "\u001b[1m13425/13425\u001b[0m \u001b[32m━━━━━━━━━━━━━━━━━━━━\u001b[0m\u001b[37m\u001b[0m \u001b[1m119s\u001b[0m 9ms/step - accuracy: 0.8181 - loss: 0.5155\n",
      "\u001b[1m210/210\u001b[0m \u001b[32m━━━━━━━━━━━━━━━━━━━━\u001b[0m\u001b[37m\u001b[0m \u001b[1m2s\u001b[0m 6ms/step - accuracy: 0.7662 - loss: 0.6778\n",
      "Loss: 0.6886008977890015, Accuracy: 0.7629971504211426\n",
      "\u001b[1m1/1\u001b[0m \u001b[32m━━━━━━━━━━━━━━━━━━━━\u001b[0m\u001b[37m\u001b[0m \u001b[1m0s\u001b[0m 300ms/step\n",
      "[5 1]\n"
     ]
    }
   ],
   "source": [
    "#############################################################------MODELISATION DEEP LEARNING-----####################################################################################################\n",
    "#                                                                    \n",
    "#                                                       Modelisation de réseau de neurones récurrents (RNN) pour la prédiction de la note client\n",
    "#                                                        avec une couche de LSTM (Long Short Term Memory) et une couche de Embedding\n",
    "#                                                               \n",
    "#                                                              \n",
    "#############################################################################################################################################################################################\n",
    "\n",
    "\n",
    "\n",
    "################################################ - IMPORTATION des bibliotheques - ##################################################\n",
    "\n",
    "\n",
    "\n",
    "import pandas as pd\n",
    "import numpy as np\n",
    "from sklearn.model_selection import train_test_split\n",
    "from sklearn.preprocessing import LabelEncoder\n",
    "from sklearn.preprocessing import OneHotEncoder\n",
    "from tensorflow.keras.models import Sequential\n",
    "from tensorflow.keras.layers import Dense, Embedding, LSTM, SpatialDropout1D\n",
    "from tensorflow.keras.preprocessing.sequence import pad_sequences\n",
    "from tensorflow.keras.preprocessing.text import Tokenizer\n",
    "\n",
    "################################################## - RECUPERATION de la base projet csv - ##################################\n",
    "\n",
    "df = pd.read_csv(r'C:\\Users\\User\\Desktop\\Charlotte\\DATASCIENTEST\\Projet\\derniere_base.csv', sep=';')\n",
    "\n",
    "\n",
    "# Prétraitement des données\n",
    "X = df['Commentaire']\n",
    "y = df['Note_client']\n",
    "\n",
    "# Encodage des labels\n",
    "label_encoder = LabelEncoder()\n",
    "y_encoded = label_encoder.fit_transform(y)\n",
    "\n",
    "# Division des données en ensembles d'entraînement et de test\n",
    "X_train, X_test, y_train, y_test = train_test_split(X, y_encoded, test_size=0.2, random_state=42)\n",
    "\n",
    "# Tokenisation\n",
    "max_words = 1000\n",
    "tokenizer = Tokenizer(num_words=max_words)\n",
    "tokenizer.fit_on_texts(X_train)\n",
    "X_train_seq = tokenizer.texts_to_sequences(X_train)\n",
    "X_test_seq = tokenizer.texts_to_sequences(X_test)\n",
    "\n",
    "# Padding des séquences\n",
    "max_len = 10  # Longueur maximale des séquences\n",
    "X_train_pad = pad_sequences(X_train_seq, maxlen=max_len)\n",
    "X_test_pad = pad_sequences(X_test_seq, maxlen=max_len)\n",
    "\n",
    "# Création du modèle\n",
    "model = Sequential()\n",
    "model.add(Embedding(input_dim=max_words, output_dim=128, input_length=max_len))\n",
    "model.add(SpatialDropout1D(0.2))\n",
    "model.add(LSTM(100))\n",
    "model.add(Dense(5, activation='softmax'))  # 5 classes pour les notes de 1 à 5\n",
    "model.compile(loss='sparse_categorical_crossentropy', optimizer='adam', metrics=['accuracy'])\n",
    "\n",
    "# Entraînement du modèle\n",
    "model.fit(X_train_pad, y_train, epochs=5, batch_size=2, verbose=1)\n",
    "\n",
    "# Évaluation du modèle\n",
    "loss, accuracy = model.evaluate(X_test_pad, y_test, verbose=1)\n",
    "print(f'Loss: {loss}, Accuracy: {accuracy}')\n",
    "\n",
    "# Prédiction sur de nouvelles données\n",
    "new_texts = ['Ce produit est incroyable', 'Je ne suis pas satisfait du tout']\n",
    "new_texts_seq = tokenizer.texts_to_sequences(new_texts)\n",
    "new_texts_pad = pad_sequences(new_texts_seq, maxlen=max_len)\n",
    "predictions = model.predict(new_texts_pad)\n",
    "predicted_ratings = np.argmax(predictions, axis=1) + 1  # Ajouter 1 car les indices commencent à 0\n",
    "print(predicted_ratings)"
   ]
  }
 ],
 "metadata": {
  "kernelspec": {
   "display_name": "env",
   "language": "python",
   "name": "python3"
  },
  "language_info": {
   "codemirror_mode": {
    "name": "ipython",
    "version": 3
   },
   "file_extension": ".py",
   "mimetype": "text/x-python",
   "name": "python",
   "nbconvert_exporter": "python",
   "pygments_lexer": "ipython3",
   "version": "3.9.21"
  }
 },
 "nbformat": 4,
 "nbformat_minor": 2
}
